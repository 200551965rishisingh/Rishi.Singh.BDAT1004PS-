{
 "cells": [
  {
   "cell_type": "markdown",
   "id": "beeb5ca6",
   "metadata": {},
   "source": [
    "# Problem Set 2"
   ]
  },
  {
   "cell_type": "markdown",
   "id": "40a85599",
   "metadata": {},
   "source": [
    "## Question 1\n",
    "Consider the following Python module:\n",
    "a = 0\n",
    "def b():\n",
    " global a\n",
    " a = c(a)\n",
    "def c(a):\n",
    " return a + 2\n",
    " \n",
    "After importing the module into the interpreter, you execute:>>> b()  >>> b()  >>> b()  >>> a ?\n",
    "\n",
    "What value is displayed when the last expression (a) is evaluated? Explain your\n",
    "answer by indicating what happens in every executed statement."
   ]
  },
  {
   "cell_type": "code",
   "execution_count": 4,
   "id": "7296bad3",
   "metadata": {},
   "outputs": [],
   "source": [
    "a = 0 \n",
    "def b():\n",
    "  global a\n",
    "  a = c(a)\n",
    "    \n",
    "def c(a):\n",
    " return a + 2"
   ]
  },
  {
   "cell_type": "code",
   "execution_count": 5,
   "id": "ae33efd3",
   "metadata": {},
   "outputs": [
    {
     "data": {
      "text/plain": [
       "6"
      ]
     },
     "execution_count": 5,
     "metadata": {},
     "output_type": "execute_result"
    }
   ],
   "source": [
    "b()\n",
    "b()\n",
    "b()\n",
    "a"
   ]
  },
  {
   "cell_type": "raw",
   "id": "450d38c0",
   "metadata": {},
   "source": [
    "1 b(): In this stage, the function c(a) is invoked, specifically c(0), with a value of 2.\n",
    "\n",
    "2 b(): During this particular step, it is demonstrated that the function c(a), specifically c(2), is employed to modify the value of a. As a result, a becomes equal to c(2), which in turn evaluates to 2+2, resulting in a value of 4. Therefore, a is assigned the value of 4.\n",
    "\n",
    "3 b(): In this step, the function c(a) is called, specifically c(4), leading to the modification of the value of a. Consequently, a is assigned the value of c(4), which can be simplified as 4+2, resulting in a value of 6. Thus, a becomes 6.\n",
    "\n",
    "4 a : In this step, the value of a, which is determined to be 6, is displayed or outputted."
   ]
  },
  {
   "cell_type": "markdown",
   "id": "3f458f58",
   "metadata": {},
   "source": [
    "# Question 2\n",
    "Function fileLength(), given to you, takes the name of a file as input and returns\n",
    "the length of the file:>>> fileLength('midterm.py')\n",
    "284  >>> fileLength('idterm.py')\n",
    "Traceback (most recent call last):File \"<pyshell#34>\", line 1, in <module>\n",
    " fileLength('idterm.py')\n",
    "File \"/Users/me/midterm.py\", line 3, in fileLength\n",
    " infile = open(filename)\n",
    "FileNotFoundError: [Errno 2] No such file or directory:\n",
    "'idterm.py'\n",
    "As shown above, if the file cannot be found by the interpreter or if it cannot be read\n",
    "as a text file, an exception will be raised. Modify function fileLength() so that a\n",
    "friendly message is printed instead: >>> fileLength('midterm.py')\n",
    "358 >>> fileLength('idterm.py')\n",
    "File idterm.py not found."
   ]
  },
  {
   "cell_type": "code",
   "execution_count": 24,
   "id": "ea92e689",
   "metadata": {},
   "outputs": [
    {
     "name": "stdout",
     "output_type": "stream",
     "text": [
      "File 'midterm.py' not found.\n",
      "None\n"
     ]
    }
   ],
   "source": [
    "def fileLength(filename):\n",
    "    try:\n",
    "        in_file = open(filename,'r')\n",
    "        content = in_file.read()\n",
    "        in_file.close()\n",
    "        return len(content)\n",
    "    except FileNotFoundError:\n",
    "        print(f\"File '{filename}' not found.\")\n",
    "result= fileLength('midterm.py')\n",
    "print(result)"
   ]
  },
  {
   "cell_type": "markdown",
   "id": "95c4247a",
   "metadata": {},
   "source": [
    "# Question 3 Write a class named Marsupial that can be used as shown below: "
   ]
  },
  {
   "cell_type": "code",
   "execution_count": 34,
   "id": "2f5c0e9f",
   "metadata": {},
   "outputs": [
    {
     "name": "stdout",
     "output_type": "stream",
     "text": [
      "['doll', 'firetruck', 'kitten']\n",
      "I am a Kangaroo located at coordinates (0,0)\n",
      "['doll', 'firetruck', 'kitten']\n",
      "I am a Kangaroo located at coordinates (3,0)\n"
     ]
    }
   ],
   "source": [
    "class Marsupial:\n",
    "    def __init__(self):\n",
    "        self.pouch = []\n",
    "\n",
    "    def put_in_pouch(self, item):\n",
    "        self.pouch.append(item)\n",
    "\n",
    "    def pouch_contents(self):\n",
    "        return self.pouch\n",
    "    \n",
    "    \n",
    "\n",
    "m = Marsupial()\n",
    "m.put_in_pouch('doll')\n",
    "m.put_in_pouch('firetruck')\n",
    "m.put_in_pouch('kitten')\n",
    "print(m.pouch_contents()) \n",
    "\n",
    "\n",
    "\n",
    "class Kangaroo(Marsupial):\n",
    "    def __init__(self, x, y):\n",
    "        super().__init__()\n",
    "        self.x = x\n",
    "        self.y = y\n",
    "\n",
    "    def jump(self, dx, dy):\n",
    "        self.x += dx\n",
    "        self.y += dy\n",
    "\n",
    "    def __str__(self):\n",
    "        return f\"I am a Kangaroo located at coordinates ({self.x},{self.y})\"\n",
    "\n",
    "\n",
    "\n",
    "k = Kangaroo(0, 0)\n",
    "print(k)  # Output: I am a Kangaroo located at coordinates (0,0)\n",
    "k.put_in_pouch('doll')\n",
    "k.put_in_pouch('firetruck')\n",
    "k.put_in_pouch('kitten')\n",
    "print(k.pouch_contents())  \n",
    "k.jump(1, 0)\n",
    "k.jump(1, 0)\n",
    "k.jump(1, 0)\n",
    "print(k)  # Output: I am a Kangaroo located at coordinates (3,0)"
   ]
  },
  {
   "cell_type": "markdown",
   "id": "29c164c5",
   "metadata": {},
   "source": [
    "# Question 4\n",
    "Write function collatz() that takes a positive integer x as input and prints the\n",
    "Collatz sequence starting at x. A Collatz sequence is obtained by repeatedly applying\n",
    "this rule to the previous number x in the sequence:"
   ]
  },
  {
   "cell_type": "code",
   "execution_count": 6,
   "id": "c84e8b02",
   "metadata": {},
   "outputs": [
    {
     "name": "stdout",
     "output_type": "stream",
     "text": [
      "1\n",
      "10\n",
      "5\n",
      "16\n",
      "8\n",
      "4\n",
      "2\n",
      "1\n"
     ]
    }
   ],
   "source": [
    "def collatz(x):\n",
    "    print(x)\n",
    "    if x == 1:\n",
    "        return\n",
    "    elif x % 2 == 0:\n",
    "        collatz(x // 2)\n",
    "    else:\n",
    "        collatz(3 * x + 1)\n",
    "\n",
    "\n",
    "\n",
    "collatz(1)  # Output: 1\n",
    "collatz(10)\n"
   ]
  },
  {
   "cell_type": "markdown",
   "id": "6b342415",
   "metadata": {},
   "source": [
    "# Question 5\n",
    "Write a recursive method binary() that takes a non-negative\n",
    "integer n and prints the binary representation of integer n."
   ]
  },
  {
   "cell_type": "code",
   "execution_count": 7,
   "id": "5e8c35f8",
   "metadata": {},
   "outputs": [
    {
     "name": "stdout",
     "output_type": "stream",
     "text": [
      "01111001"
     ]
    }
   ],
   "source": [
    "def binary(n):\n",
    "    if n > 1:\n",
    "        binary(n // 2)\n",
    "    print(n % 2, end='')\n",
    "\n",
    "\n",
    "binary(0)  # Output will be: 0\n",
    "binary(1)  # Output will be: 1\n",
    "binary(3)  # Output will be: 11\n",
    "binary(9)  # Output will be: 1001"
   ]
  },
  {
   "cell_type": "markdown",
   "id": "6dd03e1c",
   "metadata": {},
   "source": [
    "# Question 6\n",
    "Implement a class named HeadingParser that can be used to parse an HTML\n",
    "document, and retrieve and print all the headings in the document. You should\n",
    "implement your class as a subclass of HTMLParser, defined in Standard Library\n",
    "module html.parser. When fed a string containing HTML code, your class should\n",
    "print the headings, one per line and in the order in which they appear in the\n",
    "document. Each heading should be indented as follows: an h1 heading should have indentation 0, and h2 heading should have indentation 1, etc. Test your\n",
    "implementation using w3c.html."
   ]
  },
  {
   "cell_type": "code",
   "execution_count": 8,
   "id": "af2cbd89",
   "metadata": {},
   "outputs": [
    {
     "name": "stdout",
     "output_type": "stream",
     "text": [
      "W3C Mission\n",
      "  Principles\n"
     ]
    }
   ],
   "source": [
    "from html.parser import HTMLParser\n",
    "\n",
    "\n",
    "class HeadingParser(HTMLParser):\n",
    "    def __init__(self):\n",
    "        super().__init__()\n",
    "        self.headings = []\n",
    "        self.current_heading = ''\n",
    "\n",
    "    def handle_starttag(self, tag, attrs):\n",
    "        if tag.startswith('h') and len(tag) == 2 and tag[1].isdigit():\n",
    "            self.current_heading = int(tag[1]) - 1\n",
    "\n",
    "    def handle_endtag(self, tag):\n",
    "        if tag.startswith('h') and len(tag) == 2 and tag[1].isdigit():\n",
    "            self.current_heading = ''\n",
    "\n",
    "    def handle_data(self, data):\n",
    "        if self.current_heading != '':\n",
    "            indentation = '  ' * self.current_heading\n",
    "            heading_text = data.strip()\n",
    "            self.headings.append(f'{indentation}{heading_text}')\n",
    "\n",
    "    def print_headings(self):\n",
    "        for heading in self.headings:\n",
    "            print(heading)\n",
    "\n",
    "\n",
    "\n",
    "with open('w3c.html') as in_file:\n",
    "    content = in_file.read()\n",
    "\n",
    "hp = HeadingParser()\n",
    "hp.feed(content)\n",
    "hp.print_headings()"
   ]
  },
  {
   "cell_type": "markdown",
   "id": "ee534566",
   "metadata": {},
   "source": [
    "# Question 7\n",
    "Implement recursive function webdir() that takes as input: a URL (as a string) and\n",
    "non-negative integers depth and indent. Your function should visit every web\n",
    "page reachable from the starting URL web page in depth clicks or less, and print\n",
    "each web page's URL. As shown below, indentation, specified by indent, should\n",
    "be used to indicate the depth of a URL."
   ]
  },
  {
   "cell_type": "code",
   "execution_count": 13,
   "id": "5ecd1eec",
   "metadata": {},
   "outputs": [
    {
     "name": "stdout",
     "output_type": "stream",
     "text": [
      "http://reed.cs.depaul.edu/lperkovic/csc242/test1.html\n"
     ]
    }
   ],
   "source": [
    "from urllib.request import urlopen\n",
    "from urllib.parse import urljoin\n",
    "from html.parser import HTMLParser\n",
    "\n",
    "class LinkParser(HTMLParser):\n",
    "    def _init_(self):\n",
    "        super()._init_()\n",
    "        self.links = []\n",
    "\n",
    "    def handle_starttag(self, tag, attrs):\n",
    "        if tag == 'a':\n",
    "            for attr in attrs:\n",
    "                if attr[0] == 'href':\n",
    "                    self.links.append(attr[1])\n",
    "\n",
    "def webdir(url, depth, indent):\n",
    "    if depth < 0:\n",
    "        return\n",
    "\n",
    "    print(' ' * indent + url)\n",
    "\n",
    "    try:\n",
    "        response = urlopen(url)\n",
    "    except:\n",
    "        return\n",
    "\n",
    "    parser = LinkParser()\n",
    "    parser.feed(response.read().decode())\n",
    "\n",
    "    for link in parser.links:\n",
    "        absolute_url = urljoin(url, link)\n",
    "        webdir(absolute_url, depth - 1, indent + 1)\n",
    "        \n",
    "        \n",
    "        \n",
    "webdir('http://reed.cs.depaul.edu/lperkovic/csc242/test1.html', 2, 0)"
   ]
  },
  {
   "cell_type": "markdown",
   "id": "69bc5e0b",
   "metadata": {},
   "source": [
    "# Question 8\n",
    "Write SQL queries on the below database table that return:\n",
    "\n",
    "a) All the temperature data.\n",
    "\n",
    "b) All the cities, but without repetition.\n",
    "\n",
    "c) All the records for India.\n",
    "\n",
    "d) All the Fall records.\n",
    "\n",
    "e) The city, country, and season for which the average rainfall is between 200\n",
    "and 400 millimeters.\n",
    "\n",
    "f) The city and country for which the average Fall temperature is above 20\n",
    "\n",
    "degrees, in increasing temperature order.\n",
    "\n",
    "g) The total annual rainfall for Cairo.\n",
    "\n",
    "h) The total rainfall for each season."
   ]
  },
  {
   "cell_type": "code",
   "execution_count": 35,
   "id": "d17c173b",
   "metadata": {},
   "outputs": [],
   "source": [
    "import sqlite3\n",
    "\n",
    "# Connect to or create a new SQLite database file\n",
    "conn = sqlite3.connect('my_database.db')\n",
    "\n",
    "# Create a cursor object to execute SQL queries\n",
    "cur = conn.cursor()\n",
    "\n",
    "\n",
    "cur.execute(\"INSERT INTO Climate_data (City,Country,Season,Temperature,Rainfall) VALUES (?, ?,? ,?,?)\", ('Mumbai','India','Winter',24.8,5.9))\n",
    "cur.execute(\"INSERT INTO Climate_data (City,Country,Season,Temperature,Rainfall) VALUES (?, ?,? ,?,?)\", ('Mumbai','India','Spring',28.4,16.2))\n",
    "cur.execute(\"INSERT INTO Climate_data (City,Country,Season,Temperature,Rainfall) VALUES (?, ?,? ,?,?)\", ('Mumbai','India','Summer',27.9,1549.4))\n",
    "cur.execute(\"INSERT INTO Climate_data (City,Country,Season,Temperature,Rainfall) VALUES (?, ?,? ,?,?)\", ('Mumbai','India','Fall',27.6,346.0))\n",
    "cur.execute(\"INSERT INTO Climate_data (City,Country,Season,Temperature,Rainfall) VALUES (?, ?,? ,?,?)\", ('London','United Kingdom','Winter',4.2,207.7))\n",
    "cur.execute(\"INSERT INTO Climate_data (City,Country,Season,Temperature,Rainfall) VALUES (?, ?,? ,?,?)\", ('London','United Kingdom','Spring',8.3,169.6))\n",
    "cur.execute(\"INSERT INTO Climate_data (City,Country,Season,Temperature,Rainfall) VALUES (?, ?,? ,?,?)\", ('London','United Kingdom','Summer',15.7,157.0))\n",
    "cur.execute(\"INSERT INTO Climate_data (City,Country,Season,Temperature,Rainfall) VALUES (?, ?,? ,?,?)\", ('London','United Kingdom','Fall',10.4,218.5))\n",
    "cur.execute(\"INSERT INTO Climate_data (City,Country,Season,Temperature,Rainfall) VALUES (?, ?,? ,?,?)\", ('Cairo','Egypt','Winter',13.6,16.5))\n",
    "cur.execute(\"INSERT INTO Climate_data (City,Country,Season,Temperature,Rainfall) VALUES (?, ?,? ,?,?)\", ('Cairo','Egypt','Spring',20.7,6.5))\n",
    "cur.execute(\"INSERT INTO Climate_data (City,Country,Season,Temperature,Rainfall) VALUES (?, ?,? ,?,?)\", ('Cairo','Egypt','Summer',27.7,0.1))\n",
    "cur.execute(\"INSERT INTO Climate_data (City,Country,Season,Temperature,Rainfall) VALUES (?, ?,? ,?,?)\", ('Cairo','Egypt','Fall',22.2,4.5))\n",
    "\n",
    "# Commit the changes and close the connection\n",
    "conn.commit()\n",
    "conn.close()"
   ]
  },
  {
   "cell_type": "code",
   "execution_count": 30,
   "id": "522606d2",
   "metadata": {},
   "outputs": [
    {
     "name": "stdout",
     "output_type": "stream",
     "text": [
      "(a).Temperature Data:\n",
      "24.8\n",
      "28.4\n",
      "27.9\n",
      "27.6\n",
      "4.2\n",
      "8.3\n",
      "15.7\n",
      "10.4\n",
      "13.6\n",
      "20.7\n",
      "27.7\n",
      "22.2\n",
      "(b).Cities:\n",
      "Mumbai\n",
      "London\n",
      "Cairo\n",
      "(c).Records for India:\n",
      "('Mumbai', 'India', 'Winter', 24.8, 5.9)\n",
      "('Mumbai', 'India', 'Spring', 28.4, 16.2)\n",
      "('Mumbai', 'India', 'Summer', 27.9, 1549.4)\n",
      "('Mumbai', 'India', 'Fall', 27.6, 346.0)\n",
      "(d).Fall Records:\n",
      "('Mumbai', 'India', 'Fall', 27.6, 346.0)\n",
      "('London', 'United Kingdom', 'Fall', 10.4, 218.5)\n",
      "('Cairo', 'Egypt', 'Fall', 22.2, 4.5)\n",
      "(e).Records with average rainfall between 200 and 400 mm:\n",
      "('London', 'United Kingdom', 'Fall')\n",
      "('London', 'United Kingdom', 'Winter')\n",
      "('Mumbai', 'India', 'Fall')\n",
      "(f).Records with average Fall temperature above 20 degrees:\n",
      "('Cairo', 'Egypt')\n",
      "('Mumbai', 'India')\n",
      "(g).Total annual rainfall for Cairo: 27.6\n",
      "(h).Total rainfall for each season:\n",
      "Fall 569.0\n",
      "Spring 192.29999999999998\n",
      "Summer 1706.5\n",
      "Winter 230.1\n"
     ]
    }
   ],
   "source": [
    "import sqlite3\n",
    "\n",
    "# Connect to the SQLite database\n",
    "conn = sqlite3.connect('my_database.db')\n",
    "\n",
    "# Create a cursor object to execute SQL queries\n",
    "cursor = conn.cursor()\n",
    "\n",
    "# a) All the temperature data.\n",
    "\n",
    "cursor.execute(\"SELECT Temperature FROM climate_data\")\n",
    "temperature_data = cursor.fetchall()\n",
    "print(\"(a).Temperature Data:\")\n",
    "for temperature in temperature_data:\n",
    "    print(temperature[0])\n",
    "\n",
    "# b) All the cities, but without repetition.\n",
    "\n",
    "cursor.execute(\"SELECT DISTINCT City FROM climate_data \")\n",
    "cities = cursor.fetchall()\n",
    "print(\"(b).Cities:\")\n",
    "for city in cities:\n",
    "    print(city[0])\n",
    "\n",
    "# c) All the records for India.\n",
    "\n",
    "cursor.execute(\"SELECT * FROM climate_data WHERE Country = 'India'\")\n",
    "india_records = cursor.fetchall()\n",
    "print(\"(c).Records for India:\")\n",
    "for record in india_records:\n",
    "    print(record)\n",
    "\n",
    "# d) All the Fall records.\n",
    "\n",
    "cursor.execute(\"SELECT * FROM climate_data WHERE Season = 'Fall'\")\n",
    "fall_records = cursor.fetchall()\n",
    "print(\"(d).Fall Records:\")\n",
    "for record in fall_records:\n",
    "    print(record)\n",
    "\n",
    "# e) The city, country, and season for which the average rainfall is between 200 and 400 millimeters.\n",
    "\n",
    "cursor.execute(\"SELECT City, Country, Season FROM climate_data GROUP BY City, Country, Season HAVING AVG(Rainfall) BETWEEN 200 AND 400\")\n",
    "average_rainfall_records = cursor.fetchall()\n",
    "print(\"(e).Records with average rainfall between 200 and 400 mm:\")\n",
    "for record in average_rainfall_records:\n",
    "    print(record)\n",
    "\n",
    "# f) The city and country for which the average Fall temperature is above 20 degrees, in increasing temperature order.\n",
    "\n",
    "cursor.execute(\"SELECT City, Country FROM climate_data WHERE Season = 'Fall' GROUP BY City, Country HAVING AVG(Temperature) > 20 ORDER BY AVG(Temperature) ASC\")\n",
    "average_fall_temp_records = cursor.fetchall()\n",
    "print(\"(f).Records with average Fall temperature above 20 degrees:\")\n",
    "for record in average_fall_temp_records:\n",
    "    print(record)\n",
    "\n",
    "# g) The total annual rainfall for Cairo.\n",
    "\n",
    "cursor.execute(\"SELECT SUM(Rainfall) AS Total_Rainfall FROM climate_data WHERE City = 'Cairo'\")\n",
    "total_rainfall_cairo = cursor.fetchone()\n",
    "print(\"(g).Total annual rainfall for Cairo:\", total_rainfall_cairo[0])\n",
    "\n",
    "# h) The total rainfall for each season.\n",
    "\n",
    "cursor.execute(\"SELECT Season, SUM(Rainfall) AS Total_Rainfall FROM climate_data GROUP BY Season\")\n",
    "total_rainfall_seasons = cursor.fetchall()\n",
    "print(\"(h).Total rainfall for each season:\")\n",
    "for season in total_rainfall_seasons:\n",
    "    print(season[0], season[1])\n",
    "\n",
    "# Close the cursor and the connection\n",
    "\n",
    "cursor.close()\n",
    "conn.close()"
   ]
  },
  {
   "cell_type": "markdown",
   "id": "418c5dce",
   "metadata": {},
   "source": [
    "# Question 9\n",
    ". Suppose list words is defined as follows: >>> words = ['The', 'quick', 'brown', 'fox', 'jumps', 'over',\n",
    "'the', 'lazy', 'dog']\n",
    "Write list comprehension expressions that use list words and generate the following\n",
    "lists:\n",
    "a) ['THE', 'QUICK', 'BROWN', 'FOX', 'JUMPS', 'OVER', 'THE',\n",
    "'LAZY', 'DOG']\n",
    "b) ['the', 'quick', 'brown', 'fox', 'jumps', 'over', 'the',\n",
    "'lazy', 'dog']\n",
    "c) [3, 5, 5, 3, 5, 4, 3, 4, 3] (the list of lengths of words in list\n",
    "words).\n",
    "d) [['THE', 'the', 3], ['QUICK', 'quick', 5], ['BROWN',\n",
    "'brown', 5], ['FOX', 'fox', 3], ['JUMPS', 'jumps', 5],\n",
    "['OVER', 'over', 4], ['THE', 'the', 3], ['LAZY', 'lazy',\n",
    "4], ['DOG', 'dog', 3]] (the list containing a list for every word of list\n",
    "words, where each list contains the word in uppercase and lowercase and the\n",
    "length of the word.)\n",
    "e) ['The', 'quick', 'brown', 'fox', 'jumps', 'over', 'the',\n",
    "'lazy', 'dog'] (the list of words in list words containing 4 or more\n",
    "characters.)"
   ]
  },
  {
   "cell_type": "code",
   "execution_count": 20,
   "id": "d90f435c",
   "metadata": {},
   "outputs": [],
   "source": [
    "words = ['The', 'quick', 'brown', 'fox', 'jumps', 'over', 'the', 'lazy', 'dog']"
   ]
  },
  {
   "cell_type": "code",
   "execution_count": null,
   "id": "12b0343f",
   "metadata": {},
   "outputs": [],
   "source": [
    "# a"
   ]
  },
  {
   "cell_type": "code",
   "execution_count": 21,
   "id": "20ffbadb",
   "metadata": {},
   "outputs": [
    {
     "name": "stdout",
     "output_type": "stream",
     "text": [
      "['THE', 'QUICK', 'BROWN', 'FOX', 'JUMPS', 'OVER', 'THE', 'LAZY', 'DOG']\n"
     ]
    }
   ],
   "source": [
    "upper_words = [word.upper() for word in words]\n",
    "print(upper_words)"
   ]
  },
  {
   "cell_type": "code",
   "execution_count": null,
   "id": "e93e5ef9",
   "metadata": {},
   "outputs": [],
   "source": [
    "# b"
   ]
  },
  {
   "cell_type": "code",
   "execution_count": 17,
   "id": "77721b90",
   "metadata": {},
   "outputs": [
    {
     "name": "stdout",
     "output_type": "stream",
     "text": [
      "['the', 'quick', 'brown', 'fox', 'jumps', 'over', 'the', 'lazy', 'dog']\n"
     ]
    }
   ],
   "source": [
    "lower_words = [word.lower() for word in words]\n",
    "print(lower_words)"
   ]
  },
  {
   "cell_type": "code",
   "execution_count": null,
   "id": "10cc9e98",
   "metadata": {},
   "outputs": [],
   "source": [
    "# c"
   ]
  },
  {
   "cell_type": "code",
   "execution_count": 6,
   "id": "e8c0776d",
   "metadata": {},
   "outputs": [
    {
     "name": "stdout",
     "output_type": "stream",
     "text": [
      "[3, 5, 5, 3, 5, 4, 3, 4, 3]\n"
     ]
    }
   ],
   "source": [
    "word_lengths = [len(word) for word in words]\n",
    "print(word_lengths)"
   ]
  },
  {
   "cell_type": "code",
   "execution_count": null,
   "id": "612f899e",
   "metadata": {},
   "outputs": [],
   "source": [
    "# d"
   ]
  },
  {
   "cell_type": "code",
   "execution_count": 9,
   "id": "2e63b0f0",
   "metadata": {},
   "outputs": [
    {
     "name": "stdout",
     "output_type": "stream",
     "text": [
      "[['THE', 'the', 3], ['QUICK', 'quick', 5], ['BROWN', 'brown', 5], ['FOX', 'fox', 3], ['JUMPS', 'jumps', 5], ['OVER', 'over', 4], ['THE', 'the', 3], ['LAZY', 'lazy', 4], ['DOG', 'dog', 3]]\n"
     ]
    }
   ],
   "source": [
    "new_words = [[word.upper(), word.lower(), len(word)] for word in words]\n",
    "print(new_words)"
   ]
  },
  {
   "cell_type": "code",
   "execution_count": null,
   "id": "9276ec55",
   "metadata": {},
   "outputs": [],
   "source": [
    "# e"
   ]
  },
  {
   "cell_type": "code",
   "execution_count": 18,
   "id": "4c43ba01",
   "metadata": {},
   "outputs": [
    {
     "name": "stdout",
     "output_type": "stream",
     "text": [
      "['quick', 'brown', 'jumps', 'over', 'lazy']\n"
     ]
    }
   ],
   "source": [
    "list_words = [word for word in words if len(word) >= 4]\n",
    "print(list_words)"
   ]
  }
 ],
 "metadata": {
  "kernelspec": {
   "display_name": "Python 3 (ipykernel)",
   "language": "python",
   "name": "python3"
  },
  "language_info": {
   "codemirror_mode": {
    "name": "ipython",
    "version": 3
   },
   "file_extension": ".py",
   "mimetype": "text/x-python",
   "name": "python",
   "nbconvert_exporter": "python",
   "pygments_lexer": "ipython3",
   "version": "3.10.9"
  }
 },
 "nbformat": 4,
 "nbformat_minor": 5
}
