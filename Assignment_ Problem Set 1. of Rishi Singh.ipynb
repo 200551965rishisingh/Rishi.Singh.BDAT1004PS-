{
 "cells": [
  {
   "cell_type": "markdown",
   "id": "e7c12092",
   "metadata": {},
   "source": [
    "#  Problem Set: 1\n",
    "\n"
   ]
  },
  {
   "cell_type": "markdown",
   "id": "5bbb6834",
   "metadata": {},
   "source": [
    "### Question 1  What data type is each of the following (evaluate where necessary)?\n",
    "5\n",
    "\n",
    "5.0\n",
    "\n",
    "5 > 1\n",
    "\n",
    "'5'\n",
    "\n",
    "5 * 2\n",
    "\n",
    "'5' * 2\n",
    "\n",
    "'5' + '2'\n",
    "\n",
    "5 / 2\n",
    "\n",
    "5 % 2\n",
    "\n",
    "{5, 2, 1}\n",
    "\n",
    "5 == 3\n",
    "\n",
    "Pi (the number)"
   ]
  },
  {
   "cell_type": "code",
   "execution_count": 25,
   "id": "7c901b6a",
   "metadata": {},
   "outputs": [
    {
     "name": "stdout",
     "output_type": "stream",
     "text": [
      "<class 'int'>\n",
      "<class 'float'>\n",
      "<class 'bool'>\n",
      "<class 'str'>\n",
      "<class 'int'>\n",
      "<class 'str'>\n",
      "<class 'str'>\n",
      "<class 'float'>\n",
      "<class 'int'>\n",
      "<class 'set'>\n",
      "<class 'bool'>\n",
      "<class 'float'>\n"
     ]
    }
   ],
   "source": [
    "print(type(5))\n",
    "print(type(5.0))\n",
    "print(type(5 > 1))\n",
    "print(type('5'))\n",
    "print(type(5 * 2))\n",
    "print(type('5' * 2))\n",
    "print(type('5' + '2'))\n",
    "print(type(5 / 2))\n",
    "print(type(5 % 2))\n",
    "print(type({5, 2, 1}))\n",
    "print(type(5 == 3))\n",
    "print(type(15.6))"
   ]
  },
  {
   "cell_type": "code",
   "execution_count": 26,
   "id": "e05fbcf9",
   "metadata": {},
   "outputs": [
    {
     "name": "stdout",
     "output_type": "stream",
     "text": [
      "True\n",
      "10\n",
      "55\n",
      "52\n",
      "2.5\n",
      "1\n",
      "{1, 2, 5}\n",
      "False\n"
     ]
    }
   ],
   "source": [
    "# evaluating some data types.\n",
    "rishi = 5 > 1\n",
    "print(rishi)\n",
    "\n",
    "rishi = 5 * 2\n",
    "print(rishi)\n",
    "\n",
    "rishi = '5' * 2\n",
    "print(rishi)\n",
    "\n",
    "rishi = '5' + '2'\n",
    "print(rishi)\n",
    "\n",
    "rishi =(5 / 2)\n",
    "print(rishi)\n",
    "\n",
    "rishi = (5 % 2)\n",
    "print(rishi)\n",
    "\n",
    "rishi =({5, 2, 1})\n",
    "print(rishi) \n",
    "\n",
    "print(5 == 3) #or eslewise we can write \n",
    "# rishi(5 == 3) \n",
    "# print(rishi)\n"
   ]
  },
  {
   "cell_type": "markdown",
   "id": "35c830a0",
   "metadata": {},
   "source": [
    "### Question 2 Write (and evaluate) python expressions that answer these questions:\n",
    "a. How many letters are there in 'Supercalifragilisticexpialidocious'?\n",
    "\n",
    "b. Does 'Supercalifragilisticexpialidocious' contain 'ice' as a substring?\n",
    "\n",
    "c. Which of the following words is the longest: \n",
    "Supercalifragilisticexpialidocious, Honorificabilitudinitatibus, or \n",
    "Bababadalgharaghtakamminarronnkonn? \n",
    "\n",
    "d. Which composer comes first in the dictionary: 'Berlioz', 'Borodin', 'Brian', \n",
    "'Bartok', 'Bellini', 'Buxtehude', 'Bernstein'. Which one comes last?"
   ]
  },
  {
   "cell_type": "code",
   "execution_count": 27,
   "id": "e3bdba51",
   "metadata": {},
   "outputs": [
    {
     "name": "stdout",
     "output_type": "stream",
     "text": [
      "34\n",
      "yes it contain 'ice' as a substring\n",
      "Supercalifragilisticexpialidocious\n",
      "First composer: Bartok\n",
      "Last composer: Buxtehude\n"
     ]
    }
   ],
   "source": [
    "#To print the length of Supercalifragilisticexpialidocious\n",
    "rishi=('Supercalifragilisticexpialidocious')\n",
    "print(len(rishi))\n",
    "\n",
    "\n",
    "\n",
    "\n",
    "#To check Supercalifragilisticexpialidocious contains ice\n",
    "R=\"Supercalifragilisticexpialidocious\"\n",
    "if \"ice\" in R:\n",
    "    print(\"yes it contain 'ice' as a substring\")\n",
    "else:\n",
    "    print(\"no it doesnot contain 'ice' as a substring\")\n",
    "    \n",
    "    \n",
    "    \n",
    "\n",
    "\n",
    "# to check the longest words\n",
    "words = [ 'Supercalifragilisticexpialidocious','Honorificabilitudinitatibus','Bababadalgharaghtakamminarronnkonn']\n",
    "longest_word = max(words)\n",
    "print(longest_word)\n",
    "\n",
    "\n",
    "\n",
    "\n",
    "# to check Which composer comes first in given dictionary\n",
    "composers = ['Berlioz', 'Borodin', 'Brian', 'Bartok', 'Bellini', 'Buxtehude', 'Bernstein']\n",
    "composers.sort()\n",
    "print(\"First composer:\", composers[0])\n",
    "print(\"Last composer:\", composers[6])    \n",
    "    \n",
    "    "
   ]
  },
  {
   "cell_type": "markdown",
   "id": "ef31cbc3",
   "metadata": {},
   "source": [
    "### Question 3 Implement function triangleArea(a,b,c) that takes as input the lengths of the 3 sides of a triangle and returns the area of the triangle. By Heron's formula, the area of a triangle with side lengths a, b, and c is s(s - a)(s -b)(s -c)\n",
    "\n",
    ", where\n",
    "s = (a+b+c)/2.     >>> triangleArea(2,2,2)\n",
    "\n",
    "                       1.7320508075688772\n"
   ]
  },
  {
   "cell_type": "code",
   "execution_count": 1,
   "id": "a327a52d",
   "metadata": {},
   "outputs": [
    {
     "name": "stdout",
     "output_type": "stream",
     "text": [
      "first side: 2\n",
      "Second side: 2\n",
      "Third side: 2\n",
      "1.7320508075688772\n"
     ]
    }
   ],
   "source": [
    "import math\n",
    "\n",
    "def triangleArea(a, b, c):\n",
    "    # Calculate the semi-perimeter\n",
    "    s = (a + b + c) / 2\n",
    "    # Calculate the area using Heron's formula\n",
    "    area = math.sqrt(s * (s - a) * (s - b) * (s - c))\n",
    "    return area\n",
    "\n",
    "# Example usage\n",
    "a=float(input('first side: '))  \n",
    "b=float(input('Second side: '))\n",
    "c=float(input('Third side: '))\n",
    "area = triangleArea(a,b,c)\n",
    "print(area)"
   ]
  },
  {
   "cell_type": "markdown",
   "id": "09195215",
   "metadata": {},
   "source": [
    "### Question 4 Write a program in python to separate odd and even integers in separate arrays. Go to the editor\n",
    "\n",
    "Test Data : \n",
    "\n",
    "Input the number of elements to be stored in the array :5\n",
    "\n",
    "Input 5 elements in the array :\n",
    "\n",
    "element - 0 : 25\n",
    "element - 1 : 47\n",
    "element - 2 : 42     \n",
    "element - 3 : 56\n",
    "element - 4 : 32\n",
    "                                 \n",
    "Expected Output:\n",
    "\n",
    "The Even elements are:\n",
    "42 56 32\n",
    "\n",
    "The Odd elements are :\n",
    "25 47"
   ]
  },
  {
   "cell_type": "code",
   "execution_count": 2,
   "id": "b1433efe",
   "metadata": {},
   "outputs": [
    {
     "name": "stdout",
     "output_type": "stream",
     "text": [
      "The Odd elements are: [25, 47]\n",
      "The Even elements are: [42, 32, 56]\n"
     ]
    }
   ],
   "source": [
    "def separate_Odd_Even(numbers):\n",
    "    # Separate odd and even elements into separate arrays\n",
    "    odd_numbers = []\n",
    "    even_numbers = []\n",
    "\n",
    "    for i in numbers:\n",
    "        if i % 2 == 0:\n",
    "            even_numbers.append(i)\n",
    "        else:\n",
    "            odd_numbers.append(i)\n",
    "\n",
    "    return odd_numbers, even_numbers\n",
    "\n",
    "numbers = [25, 47, 42, 32, 56]\n",
    "odd, even = separate_Odd_Even(numbers)\n",
    "print(\"The Odd elements are:\", odd)\n",
    "print(\"The Even elements are:\", even)"
   ]
  },
  {
   "cell_type": "markdown",
   "id": "df1f7028",
   "metadata": {},
   "source": [
    "### Question 5\n",
    "a. Write a function inside(x,y,x1,y1,x2,y2) that returns True or False\n",
    "depending on whether the point (x,y) lies in the rectangle with lower left\n",
    "corner (x1,y1) and upper right corner (x2,y2). >>> inside(1,1,0,0,2,3)\n",
    "True   >>> inside(-1,-1,0,0,2,3)\n",
    "False\n",
    "\n",
    "b. Use function inside() from part a. to write an expression that tests whether\n",
    "the point (1,1) lies in both of the following rectangles: one with lower left\n",
    "corner (0.3, 0.5) and upper right corner (1.1, 0.7) and the other with lower\n",
    "left corner (0.5, 0.2) and upper right corner (1.1, 2). "
   ]
  },
  {
   "cell_type": "code",
   "execution_count": 3,
   "id": "aa2c9e76",
   "metadata": {},
   "outputs": [
    {
     "name": "stdout",
     "output_type": "stream",
     "text": [
      "True\n",
      "False\n",
      "The point (1, 1) lies in both rectangles.\n"
     ]
    }
   ],
   "source": [
    "def inside(x, y, x1, y1, x2, y2):\n",
    "    if (x >= x1 and x <= x2 and y >= y1 and y <= y2):\n",
    "        return(\"True\")\n",
    "    else:\n",
    "        return(\"False\") \n",
    "print(inside(1,1,0,0,2,3))\n",
    "print(inside(-1,-1,0,0,2,3))\n",
    "\n",
    "\n",
    "\n",
    "# Test if the point (1, 1) lies in both rectangles\n",
    "rectangle1 = (0.3, 0.5, 1.1, 0.7)\n",
    "rectangle2 = (0.5, 0.2, 1.1, 2)\n",
    "\n",
    "point = (1, 1)\n",
    "if inside(point[0], point[1], rectangle1[0], rectangle1[1], rectangle1[2], rectangle1[3]) and \\\n",
    "        inside(point[0], point[1], rectangle2[0], rectangle2[1], rectangle2[2], rectangle2[3]):\n",
    "    print(\"The point (1, 1) lies in both rectangles.\")\n",
    "else:\n",
    "    print(\"The point (1, 1) does not lie in both rectangles.\")"
   ]
  },
  {
   "cell_type": "markdown",
   "id": "a25875a4",
   "metadata": {},
   "source": [
    "### Question 6 You can turn a word into pig-Latin using the following two rules (simplified):\n",
    " \n",
    "• If the word starts with a consonant, move that letter to the end and append\n",
    "'ay'. For example, 'happy' becomes 'appyhay' and 'pencil' becomes 'encilpay'.\n",
    "\n",
    "• If the word starts with a vowel, simply append 'way' to the end of the word.\n",
    "For example, 'enter' becomes 'enterway' and 'other' becomes 'otherway' . For\n",
    "our purposes, there are 5 vowels: a, e, i, o, u (so we count y as a consonant).\n",
    "Write a function pig() that takes a word (i.e., a string) as input and returns its pigLatin form. Your function should still work if the input word contains upper case\n",
    "characters. Your output should always be lower case however.  >>> pig('happy')\n",
    "'appyhay'   >>> pig('Enter')\n",
    "'enterway' "
   ]
  },
  {
   "cell_type": "code",
   "execution_count": 1,
   "id": "525994e0",
   "metadata": {},
   "outputs": [
    {
     "name": "stdout",
     "output_type": "stream",
     "text": [
      "Enter a word which start comsonant:happy\n",
      "Enter a word which start Vowel:Enter\n",
      "appyhay\n",
      "enterway\n"
     ]
    }
   ],
   "source": [
    "def pig(word):\n",
    "    \n",
    "    #convert the word to lowercase\n",
    "    word = word.lower()\n",
    "    \n",
    "    \n",
    "    \n",
    "    # check if the word starts with a vowel\n",
    "    if word[0] in 'aeiou': \n",
    "        print(word+'way')\n",
    "        \n",
    "    else: \n",
    "        print(word[1:]+word[0]+'ay') #Condition for word start with consonant\n",
    "        \n",
    "        \n",
    "user_input1=input(\"Enter a word which start comsonant:\")\n",
    "user_input2=input(\"Enter a word which start Vowel:\")\n",
    "\n",
    "pig(user_input1) \n",
    "pig(user_input2)"
   ]
  },
  {
   "cell_type": "markdown",
   "id": "fe2487f3",
   "metadata": {},
   "source": [
    "### Question 7 File bloodtype1.txt records blood-types of patients (A, B, AB, O or OO) at a clinic. Write a function bldcount() that reads the file with name name and reports (i.e.,prints) how many patients there are in each bloodtype. >>> bldcount('bloodtype.txt')\n",
    "\n",
    "#### There are 10 patients of blood type A.\n",
    "\n",
    "#### There is one patient of blood type B.\n",
    "\n",
    "#### There are 10 patients of blood type AB.\n",
    "\n",
    "#### There are 12 patients of blood type O.\n",
    "\n",
    "#### There are no patients of blood type OO."
   ]
  },
  {
   "cell_type": "code",
   "execution_count": 5,
   "id": "2254c951",
   "metadata": {},
   "outputs": [
    {
     "name": "stdout",
     "output_type": "stream",
     "text": [
      "AB AB B O A A AB O AB A O O A A A O O O AB O A A A A A AB AB A AB O AB O A O O O AB O AB AB AB A A O \n",
      "\n",
      "there are 13 patients of blood type AB\n",
      "there are 15 patients of blood type A\n",
      "there are 1 patients of blood type B\n",
      "there are 15 patients of blood type O\n",
      "there are 0 patients of blood type OO\n"
     ]
    }
   ],
   "source": [
    "a=open(\"bloodtype.txt\")\n",
    "data=a.read()\n",
    "print(data)\n",
    "\n",
    "bloodlist=data.split()\n",
    "\n",
    "AB=0\n",
    "B=0\n",
    "A=0\n",
    "O=0\n",
    "OO=0\n",
    "\n",
    "for r in range(len(bloodlist)):\n",
    "    if(bloodlist[r] == 'AB'):\n",
    "        AB= AB+1\n",
    "    elif(bloodlist[r] == 'B'):\n",
    "        B= B+1\n",
    "    elif(bloodlist[r]=='A'):\n",
    "        A= A+1\n",
    "    elif(bloodlist[r]=='O'):\n",
    "        O= O+1\n",
    "    elif(bloodlist[r]=='OO'):\n",
    "        OO=OO+1\n",
    "        \n",
    "print(\"there are {} patients of blood type AB\".format(AB))\n",
    "print(\"there are {} patients of blood type A\".format(A))\n",
    "print(\"there are {} patients of blood type B\".format(B))\n",
    "print(\"there are {} patients of blood type O\".format(O))\n",
    "print(\"there are {} patients of blood type OO\".format(OO))\n",
    "\n",
    "a.close()\n"
   ]
  },
  {
   "cell_type": "markdown",
   "id": "74b44ea1",
   "metadata": {},
   "source": [
    "### Question 8 Write a function curconv() that takes as input:\n",
    "\n",
    "1. a currency represented using a string (e.g., 'JPY' for the Japanese Yen or\n",
    "'EUR' for the Euro) \n",
    "\n",
    "2. an amount and then converts and returns the amount in US dollars. >>> curconv('EUR', 100)\n",
    "122.96544 >>> curconv('JPY', 100)\n",
    "1.241401\n",
    "\n",
    "The currency rates you will need are stored in file currencies.txt:\n",
    "AUD 1.0345157 Australian Dollar\n",
    "\n",
    "CHF 1.0237414 Swiss Franc\n",
    "CNY 0.1550176 Chinese Yuan\n",
    "DKK 0.1651442 Danish Krone\n",
    "EUR 1.2296544 Euro\n",
    "GBP 1.5550989 British Pound\n",
    "HKD 0.1270207 Hong Kong Dollar\n",
    "INR 0.0177643 Indian Rupee\n",
    "JPY 0.01241401 Japanese Yen\n",
    "MXN 0.0751848 Mexican Peso\n",
    "MYR 0.3145411 Malaysian Ringgit\n",
    "NOK 0.1677063 Norwegian Krone\n",
    "NZD 0.8003591 New Zealand Dollar\n",
    "PHP 0.0233234 Philippine Peso\n",
    "SEK 0.148269 Swedish Krona\n",
    "SGD 0.788871 Singapore Dollar\n",
    "THB 0.0313789 Thai Baht\n"
   ]
  },
  {
   "cell_type": "code",
   "execution_count": 7,
   "id": "c842d484",
   "metadata": {},
   "outputs": [
    {
     "name": "stdout",
     "output_type": "stream",
     "text": [
      "Enter the amount: 500\n",
      "Enter the currency: MXN\n",
      "500.00 MXN is equal to 37.59 USD\n"
     ]
    }
   ],
   "source": [
    "def currency_converter(amount, currency):\n",
    "  conversion_rates = {'AUD': 1.0345157,'CHF':1.0237414,'CNY':0.1550176,'DKK':0.1651442,\n",
    "               'EUR':1.2296544,'GBP':1.5550989,'HKD':0.1270207, 'INR':0.0177643,\n",
    "               'JPY': 0.01241401,'MXN': 0.0751848,'MYR': 0.3145411,'NOK':0.1677063,\n",
    "               'NZD':0.8003591,'PHP':0.0233234,'SEK':0.148269,'SGD':0.788871,'THB':0.0313789}   #Dictionary of currency rates.\n",
    "  \n",
    "  conversion_rate = conversion_rates.get(currency, 0)\n",
    "  if conversion_rate == 0:\n",
    "    return None\n",
    "  \n",
    "  return amount * conversion_rate\n",
    "\n",
    "amount = float(input(\"Enter the amount: \"))\n",
    "currency = input(\"Enter the currency: \")\n",
    "\n",
    "usd = currency_converter(amount, currency)\n",
    "if usd is None:\n",
    "  print(\"Invalid currency\")\n",
    "else:\n",
    "  print(\"{0:.2f}\".format(amount), currency, \"is equal to\", \"{0:.2f}\".format(usd), \"USD\")\n"
   ]
  },
  {
   "cell_type": "markdown",
   "id": "b2c3c552",
   "metadata": {},
   "source": [
    "### Question 9 Each of the following will cause an exception (an error). Identify what type of exception each will cause.\n",
    "\n",
    "#### 1 Trying to add incompatible variables, as in adding 6 + ‘a’\n",
    "Error: In this case, we are trying to add an integer (6) and a string ('a'), which are incompatible types for addition. Means that '6' being an integer it can not add to a string which is 'a'. \n",
    "\n",
    "\n",
    "\n",
    "#### Referring to the 12th item of a list that has only 10 items\n",
    "\n",
    "Error: An example of the specific error message would be \"IndexError: list index out of range.\" It means that if we have a list of 10 IETMS, we cannot access the remaining 12 IETMS, resulting in a list index error.\n",
    "\n",
    "\n",
    "\n",
    "#### Using a value that is out of range for a function’s input, such as calling math.sqrt(-1.0)\n",
    "Error: Something along the lines of \"ValueError: math domain error\" will be the exact error message. Considering that Python's math module's math.sqrt() method requires a non-negative value as an input.\n",
    "\n",
    "\n",
    "\n",
    "#### Using an undeclared variable, such as print(x) when x has not been defined\n",
    "Error: NameError: Name 'x' is Not Defined is the precise error message that you will receive. We are attempting to utilise a variable that is not currently declared in the current scope or assigned a value, hence it cannot be done.\n",
    "\n",
    "\n",
    "\n",
    "#### Trying to open a file that does not exist, such as mistyping the file name or looking in the wrong directory. \n",
    "Error: It will say something like, \"FileNotFoundError: No such file or directory: \"filename\",\" in the error message. Because the file we are trying to access cannot be located at the given location or with the given file name, an error will be generated."
   ]
  },
  {
   "cell_type": "markdown",
   "id": "b1130dfb",
   "metadata": {},
   "source": [
    "### Question 10 Encryption is the process of hiding the meaning of a text by substituting letters in the message with other letters, according to some system. If the process is successful, no refers to attempts to undo the encryption, even if some details of the encryption are unknown (for example, if an encrypted message has been intercepted). The first step of cryptanalysis is often to build up a table of letter frequencies in the encrypted text.\n",
    "Assume that the string letters is already defined as 'abcdefghijklmnopqrstuvwxyz'. Write a function called frequencies() that takes a string as its only parameter, and returns a list of integers, showing the number of times each character appears in the text. Your function may ignore any characters that are not in letters.                  >>> frequencies('The quick red fox got bored and went home.') [1, 1, 1, 3, 5, 1, 1, 2, 1, 0, 1, 0, 1, 2, 4, 0, 1, 2, 0, 2,\n",
    "1, 0, 1, 1, 0, 0]  >>> frequencies('apple')\n"
   ]
  },
  {
   "cell_type": "code",
   "execution_count": 3,
   "id": "ea1a1783",
   "metadata": {},
   "outputs": [
    {
     "name": "stdout",
     "output_type": "stream",
     "text": [
      "enter the string here: apple\n",
      "dict_values([1, 0, 0, 0, 1, 0, 0, 0, 0, 0, 0, 1, 0, 0, 0, 2, 0, 0, 0, 0, 0, 0, 0, 0, 0, 0])\n"
     ]
    }
   ],
   "source": [
    " def frequencies():\n",
    "    letters = 'abcdefghijklmnopqrstuvwxyz'\n",
    "    string = input(\"enter the string here: \")\n",
    "    string = string.lower()\n",
    "    alphabets = { \"a\":0,\"b\":0,\"c\":0,\"d\":0,\"e\":0,\"f\":0,\"g\":0,\"h\":0,\"i\":0,\"j\":0,\"k\":0,\"l\":0,\"m\":0,\"n\":0,\"o\":0,\"p\":0,\"q\":0,\"r\":0,\"s\":0,\"t\":0,\"u\":0,\"v\":0,\"w\":0,\"x\":0,\"y\":0,\"z\":0}\n",
    "    for r in range(len(string)):\n",
    "        \n",
    "        if(string[r] in letters):\n",
    "            alphabets[string[r]] += 1\n",
    "        else:\n",
    "            continue\n",
    "    print(alphabets.values())\n",
    "    \n",
    "frequencies()"
   ]
  },
  {
   "cell_type": "code",
   "execution_count": null,
   "id": "05127610",
   "metadata": {},
   "outputs": [],
   "source": []
  }
 ],
 "metadata": {
  "kernelspec": {
   "display_name": "Python 3 (ipykernel)",
   "language": "python",
   "name": "python3"
  },
  "language_info": {
   "codemirror_mode": {
    "name": "ipython",
    "version": 3
   },
   "file_extension": ".py",
   "mimetype": "text/x-python",
   "name": "python",
   "nbconvert_exporter": "python",
   "pygments_lexer": "ipython3",
   "version": "3.10.9"
  }
 },
 "nbformat": 4,
 "nbformat_minor": 5
}
